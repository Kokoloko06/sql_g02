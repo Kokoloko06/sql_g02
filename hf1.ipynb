{
    "metadata": {
        "kernelspec": {
            "name": "SQL",
            "display_name": "SQL",
            "language": "sql"
        },
        "language_info": {
            "name": "sql",
            "version": ""
        }
    },
    "nbformat_minor": 2,
    "nbformat": 4,
    "cells": [
        {
            "cell_type": "code",
            "source": [
                "SELECT t.Name AS 'Koktél típusa',\n",
                "        count(*) AS 'Termékek száma',\n",
                "        ROUND(AVG(c.Price),-1) AS 'Átlagos ár'\n",
                "From Cocktail c Join [Type] t ON c.TypeFK=t.TypeID\n",
                "GROUP BY t.Name"
            ],
            "metadata": {
                "tags": [],
                "azdata_cell_guid": "f57a4238-99b8-4912-848e-b0f1ae37b402",
                "language": "sql"
            },
            "outputs": [
                {
                    "output_type": "display_data",
                    "data": {
                        "text/html": "(7 rows affected)"
                    },
                    "metadata": {}
                },
                {
                    "output_type": "display_data",
                    "data": {
                        "text/html": "Total execution time: 00:00:00.036"
                    },
                    "metadata": {}
                },
                {
                    "output_type": "execute_result",
                    "execution_count": 34,
                    "data": {
                        "application/vnd.dataresource+json": {
                            "schema": {
                                "fields": [
                                    {
                                        "name": "Koktél típusa"
                                    },
                                    {
                                        "name": "Termékek száma"
                                    },
                                    {
                                        "name": "Átlagos ár"
                                    }
                                ]
                            },
                            "data": [
                                {
                                    "Koktél típusa": "Brandyvel",
                                    "Termékek száma": "9",
                                    "Átlagos ár": "770,00"
                                },
                                {
                                    "Koktél típusa": "Ginnel",
                                    "Termékek száma": "3",
                                    "Átlagos ár": "820,00"
                                },
                                {
                                    "Koktél típusa": "Keserűvel",
                                    "Termékek száma": "1",
                                    "Átlagos ár": "820,00"
                                },
                                {
                                    "Koktél típusa": "Likörrel",
                                    "Termékek száma": "1",
                                    "Átlagos ár": "700,00"
                                },
                                {
                                    "Koktél típusa": "Pezsgővel",
                                    "Termékek száma": "1",
                                    "Átlagos ár": "490,00"
                                },
                                {
                                    "Koktél típusa": "Rummal",
                                    "Termékek száma": "2",
                                    "Átlagos ár": "890,00"
                                },
                                {
                                    "Koktél típusa": "Vodkával",
                                    "Termékek száma": "2",
                                    "Átlagos ár": "680,00"
                                }
                            ]
                        },
                        "text/html": "<table><tr><th>Koktél típusa</th><th>Termékek száma</th><th>Átlagos ár</th></tr><tr><td>Brandyvel</td><td>9</td><td>770,00</td></tr><tr><td>Ginnel</td><td>3</td><td>820,00</td></tr><tr><td>Keserűvel</td><td>1</td><td>820,00</td></tr><tr><td>Likörrel</td><td>1</td><td>700,00</td></tr><tr><td>Pezsgővel</td><td>1</td><td>490,00</td></tr><tr><td>Rummal</td><td>2</td><td>890,00</td></tr><tr><td>Vodkával</td><td>2</td><td>680,00</td></tr></table>"
                    },
                    "metadata": {}
                }
            ],
            "execution_count": 34
        },
        {
            "cell_type": "code",
            "source": [
                "SELECT LEN(Name) AS 'Terméknévhossz',\r\n",
                "       count(*) AS 'Ilyen hosszú leírással rendelkező termékek száma'\r\n",
                "FROM Cocktail\r\n",
                "GROUP BY LEN(Name)\r\n",
                "ORDER BY 1"
            ],
            "metadata": {
                "azdata_cell_guid": "ea972297-6d4f-4317-889d-75e79896d3bd",
                "language": "sql",
                "tags": []
            },
            "outputs": [
                {
                    "output_type": "display_data",
                    "data": {
                        "text/html": "(14 rows affected)"
                    },
                    "metadata": {}
                },
                {
                    "output_type": "display_data",
                    "data": {
                        "text/html": "Total execution time: 00:00:00.036"
                    },
                    "metadata": {}
                },
                {
                    "output_type": "execute_result",
                    "execution_count": 35,
                    "data": {
                        "application/vnd.dataresource+json": {
                            "schema": {
                                "fields": [
                                    {
                                        "name": "Terméknévhossz"
                                    },
                                    {
                                        "name": "Ilyen hosszú leírással rendelkező termékek száma"
                                    }
                                ]
                            },
                            "data": [
                                {
                                    "Terméknévhossz": "5",
                                    "Ilyen hosszú leírással rendelkező termékek száma": "1"
                                },
                                {
                                    "Terméknévhossz": "6",
                                    "Ilyen hosszú leírással rendelkező termékek száma": "1"
                                },
                                {
                                    "Terméknévhossz": "7",
                                    "Ilyen hosszú leírással rendelkező termékek száma": "1"
                                },
                                {
                                    "Terméknévhossz": "8",
                                    "Ilyen hosszú leírással rendelkező termékek száma": "1"
                                },
                                {
                                    "Terméknévhossz": "9",
                                    "Ilyen hosszú leírással rendelkező termékek száma": "3"
                                },
                                {
                                    "Terméknévhossz": "10",
                                    "Ilyen hosszú leírással rendelkező termékek száma": "2"
                                },
                                {
                                    "Terméknévhossz": "11",
                                    "Ilyen hosszú leírással rendelkező termékek száma": "2"
                                },
                                {
                                    "Terméknévhossz": "12",
                                    "Ilyen hosszú leírással rendelkező termékek száma": "1"
                                },
                                {
                                    "Terméknévhossz": "13",
                                    "Ilyen hosszú leírással rendelkező termékek száma": "2"
                                },
                                {
                                    "Terméknévhossz": "14",
                                    "Ilyen hosszú leírással rendelkező termékek száma": "1"
                                },
                                {
                                    "Terméknévhossz": "16",
                                    "Ilyen hosszú leírással rendelkező termékek száma": "1"
                                },
                                {
                                    "Terméknévhossz": "17",
                                    "Ilyen hosszú leírással rendelkező termékek száma": "1"
                                },
                                {
                                    "Terméknévhossz": "18",
                                    "Ilyen hosszú leírással rendelkező termékek száma": "1"
                                },
                                {
                                    "Terméknévhossz": "22",
                                    "Ilyen hosszú leírással rendelkező termékek száma": "1"
                                }
                            ]
                        },
                        "text/html": "<table><tr><th>Terméknévhossz</th><th>Ilyen hosszú leírással rendelkező termékek száma</th></tr><tr><td>5</td><td>1</td></tr><tr><td>6</td><td>1</td></tr><tr><td>7</td><td>1</td></tr><tr><td>8</td><td>1</td></tr><tr><td>9</td><td>3</td></tr><tr><td>10</td><td>2</td></tr><tr><td>11</td><td>2</td></tr><tr><td>12</td><td>1</td></tr><tr><td>13</td><td>2</td></tr><tr><td>14</td><td>1</td></tr><tr><td>16</td><td>1</td></tr><tr><td>17</td><td>1</td></tr><tr><td>18</td><td>1</td></tr><tr><td>22</td><td>1</td></tr></table>"
                    },
                    "metadata": {}
                }
            ],
            "execution_count": 35
        },
        {
            "cell_type": "code",
            "source": [
                "SELECT round(stdev(Price), 0) AS 'Átlagtól való átlagos eltérés'\r\n",
                "    , round(var(Price), 0) AS 'Variancia'\r\n",
                "FROM Cocktail"
            ],
            "metadata": {
                "azdata_cell_guid": "f3ca2eb0-d9f8-41b5-9897-776921e6c6e9",
                "language": "sql",
                "tags": []
            },
            "outputs": [
                {
                    "output_type": "display_data",
                    "data": {
                        "text/html": "(1 row affected)"
                    },
                    "metadata": {}
                },
                {
                    "output_type": "display_data",
                    "data": {
                        "text/html": "Total execution time: 00:00:00.117"
                    },
                    "metadata": {}
                },
                {
                    "output_type": "execute_result",
                    "execution_count": 36,
                    "data": {
                        "application/vnd.dataresource+json": {
                            "schema": {
                                "fields": [
                                    {
                                        "name": "Átlagtól való átlagos eltérés"
                                    },
                                    {
                                        "name": "Variancia"
                                    }
                                ]
                            },
                            "data": [
                                {
                                    "Átlagtól való átlagos eltérés": "115",
                                    "Variancia": "13253"
                                }
                            ]
                        },
                        "text/html": "<table><tr><th>Átlagtól való átlagos eltérés</th><th>Variancia</th></tr><tr><td>115</td><td>13253</td></tr></table>"
                    },
                    "metadata": {}
                }
            ],
            "execution_count": 36
        },
        {
            "cell_type": "code",
            "source": [
                "WITH atlag_ar\r\n",
                "AS (\r\n",
                "    SELECT AVG(Price) AS atlag_ar\r\n",
                "    FROM Cocktail\r\n",
                "    )\r\n",
                "SELECT count(CASE \r\n",
                "            WHEN Price > atlag_ar * 1.1\r\n",
                "                OR Price < atlag_ar * 0.5\r\n",
                "                THEN 1\r\n",
                "            END) AS 'Átlagártól eltérő termékek száma'\r\n",
                "    , count(*) - count(CASE \r\n",
                "            WHEN Price > atlag_ar * 1.1\r\n",
                "                OR Price < atlag_ar * 0.5\r\n",
                "                THEN 1\r\n",
                "            END) AS 'Átlagos áron lévő termékek száma'\r\n",
                "FROM Cocktail\r\n",
                "    , atlag_ar"
            ],
            "metadata": {
                "azdata_cell_guid": "40767613-f6d3-4e61-af61-67e522bbe9d2",
                "language": "sql",
                "tags": []
            },
            "outputs": [
                {
                    "output_type": "display_data",
                    "data": {
                        "text/html": "Warning: Null value is eliminated by an aggregate or other SET operation."
                    },
                    "metadata": {}
                },
                {
                    "output_type": "display_data",
                    "data": {
                        "text/html": "(1 row affected)"
                    },
                    "metadata": {}
                },
                {
                    "output_type": "display_data",
                    "data": {
                        "text/html": "Total execution time: 00:00:00.049"
                    },
                    "metadata": {}
                },
                {
                    "output_type": "execute_result",
                    "execution_count": 32,
                    "data": {
                        "application/vnd.dataresource+json": {
                            "schema": {
                                "fields": [
                                    {
                                        "name": "Átlagártól eltérő termékek száma"
                                    },
                                    {
                                        "name": "Átlagos áron lévő termékek száma"
                                    }
                                ]
                            },
                            "data": [
                                {
                                    "Átlagártól eltérő termékek száma": "6",
                                    "Átlagos áron lévő termékek száma": "13"
                                }
                            ]
                        },
                        "text/html": "<table><tr><th>Átlagártól eltérő termékek száma</th><th>Átlagos áron lévő termékek száma</th></tr><tr><td>6</td><td>13</td></tr></table>"
                    },
                    "metadata": {}
                }
            ],
            "execution_count": 32
        },
        {
            "cell_type": "code",
            "source": [
                "WITH atlag_ar\r\n",
                "AS (\r\n",
                "    SELECT AVG(Price) AS atlag_ar\r\n",
                "    FROM Cocktail\r\n",
                "    )\r\n",
                "SELECT MAX(Price) - MIN(Price) AS 'Terjedelem'\r\n",
                "    , round(AVG(Price), 0) AS 'Átlagár'\r\n",
                "    , COUNT(CASE \r\n",
                "            WHEN Price < atlag_ar\r\n",
                "                THEN 1\r\n",
                "            END) AS 'Átlag alatti termékek száma'\r\n",
                "    , COUNT(CASE \r\n",
                "            WHEN Price > atlag_ar\r\n",
                "                THEN 1\r\n",
                "            END) AS 'Átlag feletti termékek száma'\r\n",
                "FROM Cocktail\r\n",
                "    , atlag_ar;\r\n",
                ""
            ],
            "metadata": {
                "azdata_cell_guid": "1335f9b7-6954-43a6-b516-23a6ec1b75a1",
                "language": "sql"
            },
            "outputs": [
                {
                    "output_type": "display_data",
                    "data": {
                        "text/html": "Warning: Null value is eliminated by an aggregate or other SET operation."
                    },
                    "metadata": {}
                },
                {
                    "output_type": "display_data",
                    "data": {
                        "text/html": "(1 row affected)"
                    },
                    "metadata": {}
                },
                {
                    "output_type": "display_data",
                    "data": {
                        "text/html": "Total execution time: 00:00:00.043"
                    },
                    "metadata": {}
                },
                {
                    "output_type": "execute_result",
                    "execution_count": 33,
                    "data": {
                        "application/vnd.dataresource+json": {
                            "schema": {
                                "fields": [
                                    {
                                        "name": "Terjedelem"
                                    },
                                    {
                                        "name": "Átlagár"
                                    },
                                    {
                                        "name": "Átlag alatti termékek száma"
                                    },
                                    {
                                        "name": "Átlag feletti termékek száma"
                                    }
                                ]
                            },
                            "data": [
                                {
                                    "Terjedelem": "410,00",
                                    "Átlagár": "767,00",
                                    "Átlag alatti termékek száma": "8",
                                    "Átlag feletti termékek száma": "11"
                                }
                            ]
                        },
                        "text/html": "<table><tr><th>Terjedelem</th><th>Átlagár</th><th>Átlag alatti termékek száma</th><th>Átlag feletti termékek száma</th></tr><tr><td>410,00</td><td>767,00</td><td>8</td><td>11</td></tr></table>"
                    },
                    "metadata": {}
                }
            ],
            "execution_count": 33
        },
        {
            "cell_type": "code",
            "source": [
                "SELECT t.Name AS 'Cocktail típus'\r\n",
                "    , sum(Price) AS 'Termékek értéke Cocktail típus szerint összesítve'\r\n",
                "FROM Cocktail c join [Type] t on c.TypeFK=t.TypeID\r\n",
                "GROUP BY t.Name\r\n",
                "ORDER BY sum(Price) DESC"
            ],
            "metadata": {
                "azdata_cell_guid": "8d1c7fe6-28b5-4a8a-935a-4c2d4c998e68",
                "language": "sql",
                "tags": []
            },
            "outputs": [
                {
                    "output_type": "display_data",
                    "data": {
                        "text/html": "(7 rows affected)"
                    },
                    "metadata": {}
                },
                {
                    "output_type": "display_data",
                    "data": {
                        "text/html": "Total execution time: 00:00:00.031"
                    },
                    "metadata": {}
                },
                {
                    "output_type": "execute_result",
                    "execution_count": 41,
                    "data": {
                        "application/vnd.dataresource+json": {
                            "schema": {
                                "fields": [
                                    {
                                        "name": "Cocktail típus"
                                    },
                                    {
                                        "name": "Termékek értéke Cocktail típus szerint összesítve"
                                    }
                                ]
                            },
                            "data": [
                                {
                                    "Cocktail típus": "Brandyvel",
                                    "Termékek értéke Cocktail típus szerint összesítve": "6950,00"
                                },
                                {
                                    "Cocktail típus": "Ginnel",
                                    "Termékek értéke Cocktail típus szerint összesítve": "2470,00"
                                },
                                {
                                    "Cocktail típus": "Rummal",
                                    "Termékek értéke Cocktail típus szerint összesítve": "1780,00"
                                },
                                {
                                    "Cocktail típus": "Vodkával",
                                    "Termékek értéke Cocktail típus szerint összesítve": "1366,00"
                                },
                                {
                                    "Cocktail típus": "Keserűvel",
                                    "Termékek értéke Cocktail típus szerint összesítve": "820,00"
                                },
                                {
                                    "Cocktail típus": "Likörrel",
                                    "Termékek értéke Cocktail típus szerint összesítve": "700,00"
                                },
                                {
                                    "Cocktail típus": "Pezsgővel",
                                    "Termékek értéke Cocktail típus szerint összesítve": "490,00"
                                }
                            ]
                        },
                        "text/html": "<table><tr><th>Cocktail típus</th><th>Termékek értéke Cocktail típus szerint összesítve</th></tr><tr><td>Brandyvel</td><td>6950,00</td></tr><tr><td>Ginnel</td><td>2470,00</td></tr><tr><td>Rummal</td><td>1780,00</td></tr><tr><td>Vodkával</td><td>1366,00</td></tr><tr><td>Keserűvel</td><td>820,00</td></tr><tr><td>Likörrel</td><td>700,00</td></tr><tr><td>Pezsgővel</td><td>490,00</td></tr></table>"
                    },
                    "metadata": {}
                }
            ],
            "execution_count": 41
        }
    ]
}